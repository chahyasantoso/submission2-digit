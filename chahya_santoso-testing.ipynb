{
 "cells": [
  {
   "cell_type": "code",
   "execution_count": 8,
   "metadata": {},
   "outputs": [],
   "source": [
    "import requests\n",
    "import json\n",
    "from modules.utils import (\n",
    "    serialize_example,\n",
    "    make_base64_examples\n",
    ")\n",
    "\n",
    "from pprint import PrettyPrinter\n",
    "pp = PrettyPrinter()\n",
    "\n",
    "MODEL_NAME='review-sentiment-model'\n",
    "IP_ADDRESS='103.190.215.213:8501'\n",
    "\n",
    "base_url = 'http://' + IP_ADDRESS + '/v1/models/' + MODEL_NAME"
   ]
  },
  {
   "cell_type": "markdown",
   "metadata": {},
   "source": [
    "## Test docker and request metadata"
   ]
  },
  {
   "cell_type": "code",
   "execution_count": 9,
   "metadata": {},
   "outputs": [
    {
     "name": "stdout",
     "output_type": "stream",
     "text": [
      "{'metadata': {'signature_def': {'signature_def': {'__saved_model_init_op': {'defaults': {},\n",
      "                                                                            'inputs': {},\n",
      "                                                                            'method_name': '',\n",
      "                                                                            'outputs': {'__saved_model_init_op': {'dtype': 'DT_INVALID',\n",
      "                                                                                                                  'name': 'NoOp',\n",
      "                                                                                                                  'tensor_shape': {'dim': [],\n",
      "                                                                                                                                   'unknown_rank': True}}}},\n",
      "                                                  'serving_default': {'defaults': {},\n",
      "                                                                      'inputs': {'examples': {'dtype': 'DT_STRING',\n",
      "                                                                                              'name': 'serving_default_examples:0',\n",
      "                                                                                              'tensor_shape': {'dim': [{'name': '',\n",
      "                                                                                                                        'size': '-1'}],\n",
      "                                                                                                               'unknown_rank': False}}},\n",
      "                                                                      'method_name': 'tensorflow/serving/predict',\n",
      "                                                                      'outputs': {'outputs': {'dtype': 'DT_FLOAT',\n",
      "                                                                                              'name': 'StatefulPartitionedCall_1:0',\n",
      "                                                                                              'tensor_shape': {'dim': [{'name': '',\n",
      "                                                                                                                        'size': '-1'},\n",
      "                                                                                                                       {'name': '',\n",
      "                                                                                                                        'size': '1'}],\n",
      "                                                                                                               'unknown_rank': False}}}}}}},\n",
      " 'model_spec': {'name': 'review-sentiment-model',\n",
      "                'signature_name': '',\n",
      "                'version': '1712901439'}}\n"
     ]
    }
   ],
   "source": [
    "pp.pprint(requests.get(base_url + '/metadata').json())"
   ]
  },
  {
   "cell_type": "markdown",
   "metadata": {},
   "source": [
    "## Make TF Serving prediction"
   ]
  },
  {
   "cell_type": "code",
   "execution_count": 10,
   "metadata": {},
   "outputs": [
    {
     "name": "stdout",
     "output_type": "stream",
     "text": [
      "Review: One of the other reviewers has mentioned that after watching just 1 Oz episode you'll be hooked. They are right, as this is exactly what happened with me.<br /><br />The first thing that struck me about Oz was its brutality and unflinching scenes of violence, which set in right from the word GO. Trust me, this is not a show for the faint hearted or timid. This show pulls no punches with regards to drugs, sex or violence. Its is hardcore, in the classic use of the word.<br /><br />It is called OZ as that is the nickname given to the Oswald Maximum Security State Penitentary. It focuses mainly on Emerald City, an experimental section of the prison where all the cells have glass fronts and face inwards, so privacy is not high on the agenda. Em City is home to many..Aryans, Muslims, gangstas, Latinos, Christians, Italians, Irish and more....so scuffles, death stares, dodgy dealings and shady agreements are never far away.<br /><br />I would say the main appeal of the show is due to the fact that it goes where other shows wouldn't dare. Forget pretty pictures painted for mainstream audiences, forget charm, forget romance...OZ doesn't mess around. The first episode I ever saw struck me as so nasty it was surreal, I couldn't say I was ready for it, but as I watched more, I developed a taste for Oz, and got accustomed to the high levels of graphic violence. Not just violence, but injustice (crooked guards who'll be sold out for a nickel, inmates who'll kill on order and get away with it, well mannered, middle class inmates being turned into prison bitches due to their lack of street skills or prison experience) Watching Oz, you may become comfortable with what is uncomfortable viewing....thats if you can get in touch with your darker side.\n",
      "Prediction: 0.996889114\n",
      "Sentiment: positive\n",
      "Review: The movie is great!\n",
      "Prediction: 0.518151939\n",
      "Sentiment: positive\n",
      "Review: the movie is terrible...\n",
      "Prediction: 0.0933296829\n",
      "Sentiment: negative\n",
      "Review: movie is really bad\n",
      "Prediction: 0.14176546\n",
      "Sentiment: negative\n"
     ]
    }
   ],
   "source": [
    "reviews = [\n",
    "    'One of the other reviewers has mentioned that after watching just 1 Oz episode you\\'ll be hooked. They are right, as this is exactly what happened with me.<br /><br />The first thing that struck me about Oz was its brutality and unflinching scenes of violence, which set in right from the word GO. Trust me, this is not a show for the faint hearted or timid. This show pulls no punches with regards to drugs, sex or violence. Its is hardcore, in the classic use of the word.<br /><br />It is called OZ as that is the nickname given to the Oswald Maximum Security State Penitentary. It focuses mainly on Emerald City, an experimental section of the prison where all the cells have glass fronts and face inwards, so privacy is not high on the agenda. Em City is home to many..Aryans, Muslims, gangstas, Latinos, Christians, Italians, Irish and more....so scuffles, death stares, dodgy dealings and shady agreements are never far away.<br /><br />I would say the main appeal of the show is due to the fact that it goes where other shows wouldn\\'t dare. Forget pretty pictures painted for mainstream audiences, forget charm, forget romance...OZ doesn\\'t mess around. The first episode I ever saw struck me as so nasty it was surreal, I couldn\\'t say I was ready for it, but as I watched more, I developed a taste for Oz, and got accustomed to the high levels of graphic violence. Not just violence, but injustice (crooked guards who\\'ll be sold out for a nickel, inmates who\\'ll kill on order and get away with it, well mannered, middle class inmates being turned into prison bitches due to their lack of street skills or prison experience) Watching Oz, you may become comfortable with what is uncomfortable viewing....thats if you can get in touch with your darker side.',\n",
    "    'The movie is great!',\n",
    "    'the movie is terrible...',\n",
    "    'movie is really bad'\n",
    "]\n",
    "\n",
    "review_examples = [serialize_example({'review':review}) for review in reviews]\n",
    "base64_examples = [make_base64_examples(example) for example in review_examples]\n",
    "#print(base64_examples)\n",
    "\n",
    "json_data = json.dumps(\n",
    "    {\n",
    "        'instances': base64_examples\n",
    "    }\n",
    ")\n",
    "\n",
    "response = requests.post(base_url + ':predict', data=json_data)\n",
    "\n",
    "if 'predictions' in response.json():\n",
    "    for i, review in enumerate(reviews):\n",
    "        print('Review:', review)\n",
    "\n",
    "        pred = response.json()['predictions'][i][0]\n",
    "        print('Prediction:', pred)\n",
    "        \n",
    "        sentiment = 'positive' if pred > 0.5 else 'negative' \n",
    "        print('Sentiment:', sentiment)\n",
    "else:\n",
    "    pp.pprint(response.json())\n"
   ]
  }
 ],
 "metadata": {
  "kernelspec": {
   "display_name": "mlops-tfx",
   "language": "python",
   "name": "python3"
  },
  "language_info": {
   "codemirror_mode": {
    "name": "ipython",
    "version": 3
   },
   "file_extension": ".py",
   "mimetype": "text/x-python",
   "name": "python",
   "nbconvert_exporter": "python",
   "pygments_lexer": "ipython3",
   "version": "3.8.18"
  }
 },
 "nbformat": 4,
 "nbformat_minor": 2
}
